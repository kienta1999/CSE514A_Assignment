{
 "cells": [
  {
   "cell_type": "code",
   "execution_count": 55,
   "metadata": {},
   "outputs": [],
   "source": [
    "import pandas as pd\n",
    "import numpy as np\n",
    "from sklearn.impute import KNNImputer\n",
    "from sklearn.impute import SimpleImputer"
   ]
  },
  {
   "cell_type": "code",
   "execution_count": 56,
   "metadata": {},
   "outputs": [],
   "source": [
    "train = pd.read_csv('training.csv', header= None, na_values=\"?\")"
   ]
  },
  {
   "cell_type": "code",
   "execution_count": 58,
   "metadata": {},
   "outputs": [],
   "source": [
    "X, y = train.drop(15, axis=1), train[15]\n",
    "y = np.where(y == '+', 1, 0)\n",
    "X_categorical = X[[0, 3, 4, 5, 6, 8, 9, 11, 12]]\n",
    "X_numerical = X[[1, 2, 7, 10, 13, 14]]\n",
    "num_imputer = KNNImputer(n_neighbors=1, weights=\"uniform\")\n",
    "X_numerical = num_imputer.fit_transform(X_numerical)\n",
    "\n",
    "cate_imputer = SimpleImputer(strategy=\"most_frequent\")\n",
    "X_categorical = cate_imputer.fit_transform(X_categorical)"
   ]
  },
  {
   "cell_type": "code",
   "execution_count": 80,
   "metadata": {},
   "outputs": [
    {
     "data": {
      "text/plain": [
       "{'bb', 'dd', 'ff', 'h', 'j', 'n', 'o', 'v', 'z'}"
      ]
     },
     "execution_count": 80,
     "metadata": {},
     "output_type": "execute_result"
    }
   ],
   "source": [
    "set(X_categorical[:,4])"
   ]
  }
 ],
 "metadata": {
  "kernelspec": {
   "display_name": "Python 3",
   "language": "python",
   "name": "python3"
  },
  "language_info": {
   "codemirror_mode": {
    "name": "ipython",
    "version": 3
   },
   "file_extension": ".py",
   "mimetype": "text/x-python",
   "name": "python",
   "nbconvert_exporter": "python",
   "pygments_lexer": "ipython3",
   "version": "3.8.10"
  }
 },
 "nbformat": 4,
 "nbformat_minor": 4
}
